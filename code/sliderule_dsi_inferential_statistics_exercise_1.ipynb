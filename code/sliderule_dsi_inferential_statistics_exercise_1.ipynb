{
 "cells": [
  {
   "cell_type": "markdown",
   "metadata": {},
   "source": [
    "# What is the True Normal Human Body Temperature? \n",
    "\n",
    "#### Background\n",
    "\n",
    "The mean normal body temperature was held to be 37$^{\\circ}$C or 98.6$^{\\circ}$F for more than 120 years since it was first conceptualized and reported by Carl Wunderlich in a famous 1868 book. But, is this value statistically correct?"
   ]
  },
  {
   "cell_type": "markdown",
   "metadata": {},
   "source": [
    "<h3>Exercises</h3>\n",
    "\n",
    "<p>In this exercise, you will analyze a dataset of human body temperatures and employ the concepts of hypothesis testing, confidence intervals, and statistical significance.</p>\n",
    "\n",
    "<p>Answer the following questions <b>in this notebook below and submit to your Github account</b>.</p> \n",
    "\n",
    "<ol>\n",
    "<li>  Is the distribution of body temperatures normal? \n",
    "    <ul>\n",
    "    <li> Although this is not a requirement for the Central Limit Theorem to hold (read the introduction on Wikipedia's page about the CLT carefully: https://en.wikipedia.org/wiki/Central_limit_theorem), it gives us some peace of mind that the population may also be normally distributed if we assume that this sample is representative of the population.\n",
    "    <li> Think about the way you're going to check for the normality of the distribution. Graphical methods are usually used first, but there are also other ways: https://en.wikipedia.org/wiki/Normality_test\n",
    "    </ul>\n",
    "<li>  Is the sample size large? Are the observations independent?\n",
    "    <ul>\n",
    "    <li> Remember that this is a condition for the Central Limit Theorem, and hence the statistical tests we are using, to apply.\n",
    "    </ul>\n",
    "<li>  Is the true population mean really 98.6 degrees F?\n",
    "    <ul>\n",
    "    <li> First, try a bootstrap hypothesis test.\n",
    "    <li> Now, let's try frequentist statistical testing. Would you use a one-sample or two-sample test? Why?\n",
    "    <li> In this situation, is it appropriate to use the $t$ or $z$ statistic? \n",
    "    <li> Now try using the other test. How is the result be different? Why?\n",
    "    </ul>\n",
    "<li>  Draw a small sample of size 10 from the data and repeat both frequentist tests. \n",
    "    <ul>\n",
    "    <li> Which one is the correct one to use? \n",
    "    <li> What do you notice? What does this tell you about the difference in application of the $t$ and $z$ statistic?\n",
    "    </ul>\n",
    "<li>  At what temperature should we consider someone's temperature to be \"abnormal\"?\n",
    "    <ul>\n",
    "    <li> As in the previous example, try calculating everything using the boostrap approach, as well as the frequentist approach.\n",
    "    <li> Start by computing the margin of error and confidence interval. When calculating the confidence interval, keep in mind that you should use the appropriate formula for one draw, and not N draws.\n",
    "    </ul>\n",
    "<li>  Is there a significant difference between males and females in normal temperature?\n",
    "    <ul>\n",
    "    <li> What testing approach did you use and why?\n",
    "    <li> Write a story with your conclusion in the context of the original problem.\n",
    "    </ul>\n",
    "</ol>\n",
    "\n",
    "You can include written notes in notebook cells using Markdown: \n",
    "   - In the control panel at the top, choose Cell > Cell Type > Markdown\n",
    "   - Markdown syntax: http://nestacms.com/docs/creating-content/markdown-cheat-sheet\n",
    "\n",
    "#### Resources\n",
    "\n",
    "+ Information and data sources: http://www.amstat.org/publications/jse/datasets/normtemp.txt, http://www.amstat.org/publications/jse/jse_data_archive.htm\n",
    "+ Markdown syntax: http://nestacms.com/docs/creating-content/markdown-cheat-sheet\n",
    "\n",
    "****"
   ]
  },
  {
   "cell_type": "code",
   "execution_count": 1,
   "metadata": {},
   "outputs": [],
   "source": [
    " % matplotlib inline\n",
    "\n",
    "import pandas as pd\n",
    "import numpy as np\n",
    "import seaborn as sns\n",
    "import matplotlib.pyplot as plt\n",
    "import random\n",
    "from scipy.stats import t, norm\n",
    "#Read in the files\n",
    "\n",
    "df = pd.read_csv('../data/human_body_temperature.csv')"
   ]
  },
  {
   "cell_type": "markdown",
   "metadata": {},
   "source": [
    "### Exploratory Data Analysis"
   ]
  },
  {
   "cell_type": "code",
   "execution_count": 2,
   "metadata": {},
   "outputs": [
    {
     "data": {
      "text/html": [
       "<div>\n",
       "<style>\n",
       "    .dataframe thead tr:only-child th {\n",
       "        text-align: right;\n",
       "    }\n",
       "\n",
       "    .dataframe thead th {\n",
       "        text-align: left;\n",
       "    }\n",
       "\n",
       "    .dataframe tbody tr th {\n",
       "        vertical-align: top;\n",
       "    }\n",
       "</style>\n",
       "<table border=\"1\" class=\"dataframe\">\n",
       "  <thead>\n",
       "    <tr style=\"text-align: right;\">\n",
       "      <th></th>\n",
       "      <th>temperature</th>\n",
       "      <th>gender</th>\n",
       "      <th>heart_rate</th>\n",
       "    </tr>\n",
       "  </thead>\n",
       "  <tbody>\n",
       "    <tr>\n",
       "      <th>0</th>\n",
       "      <td>99.3</td>\n",
       "      <td>F</td>\n",
       "      <td>68.0</td>\n",
       "    </tr>\n",
       "    <tr>\n",
       "      <th>1</th>\n",
       "      <td>98.4</td>\n",
       "      <td>F</td>\n",
       "      <td>81.0</td>\n",
       "    </tr>\n",
       "    <tr>\n",
       "      <th>2</th>\n",
       "      <td>97.8</td>\n",
       "      <td>M</td>\n",
       "      <td>73.0</td>\n",
       "    </tr>\n",
       "    <tr>\n",
       "      <th>3</th>\n",
       "      <td>99.2</td>\n",
       "      <td>F</td>\n",
       "      <td>66.0</td>\n",
       "    </tr>\n",
       "    <tr>\n",
       "      <th>4</th>\n",
       "      <td>98.0</td>\n",
       "      <td>F</td>\n",
       "      <td>73.0</td>\n",
       "    </tr>\n",
       "  </tbody>\n",
       "</table>\n",
       "</div>"
      ],
      "text/plain": [
       "   temperature gender  heart_rate\n",
       "0         99.3      F        68.0\n",
       "1         98.4      F        81.0\n",
       "2         97.8      M        73.0\n",
       "3         99.2      F        66.0\n",
       "4         98.0      F        73.0"
      ]
     },
     "execution_count": 2,
     "metadata": {},
     "output_type": "execute_result"
    }
   ],
   "source": [
    "# Let us take a look at the tempareture\n",
    "df.head()\n"
   ]
  },
  {
   "cell_type": "code",
   "execution_count": 3,
   "metadata": {},
   "outputs": [
    {
     "name": "stdout",
     "output_type": "stream",
     "text": [
      "There are a total of 130 observations in the data set \n"
     ]
    }
   ],
   "source": [
    "(rows,cols) = df.shape\n",
    "print(\"There are a total of {} observations in the data set \".format(rows))"
   ]
  },
  {
   "cell_type": "code",
   "execution_count": 4,
   "metadata": {},
   "outputs": [
    {
     "data": {
      "image/png": "[encoded data removed]",
      "text/plain": [
       "<matplotlib.figure.Figure at 0x10c7cb9b0>"
      ]
     },
     "metadata": {},
     "output_type": "display_data"
    }
   ],
   "source": [
    "color = sns.color_palette()\n",
    "sns.set(style=\"white\")\n",
    "cnt_srs = df.gender.value_counts()\n",
    "\n",
    "plt.figure(figsize=(12,8))\n",
    "with sns.color_palette(\"husl\"):\n",
    " sns.barplot(cnt_srs.index, cnt_srs.values, alpha=0.8)\n",
    "plt.ylabel('Number of Observations', fontsize=12)\n",
    "plt.xlabel('Counts by Gender', fontsize=12)\n",
    "plt.title('Count of rows in each dataset', fontsize=15)\n",
    "plt.xticks(rotation='vertical')\n",
    "sns.set_style(\"whitegrid\")\n",
    "sns.despine(offset=10)\n",
    "sns.despine(left=True)\n",
    "\n",
    "plt.margins(0.6)\n",
    "\n",
    "plt.show()"
   ]
  },
  {
   "cell_type": "markdown",
   "metadata": {},
   "source": [
    "Fig1 : (above) There are a total of 130 observations that seem evenly split between M and F genders"
   ]
  },
  {
   "cell_type": "code",
   "execution_count": 5,
   "metadata": {},
   "outputs": [
    {
     "name": "stdout",
     "output_type": "stream",
     "text": [
      "The mean human temperature  of males in the data set is 98.1046153846154\n",
      "The mean human temperature  of females in the data set is 98.39384615384613\n"
     ]
    }
   ],
   "source": [
    "mean_ht_all = np.mean(df.temperature)\n",
    "df.head()\n",
    "males_df = df[df['gender'] == 'M']\n",
    "females_df = df[df['gender'] == 'F']\n",
    "\n",
    "print(\"The mean human temperature  of males in the data set is {}\".format(np.mean(males_df['temperature'])))\n",
    "print(\"The mean human temperature  of females in the data set is {}\".format(np.mean(females_df['temperature'])))"
   ]
  },
  {
   "cell_type": "code",
   "execution_count": 6,
   "metadata": {},
   "outputs": [
    {
     "data": {
      "image/png": "[encoded data removed]",
      "text/plain": [
       "<matplotlib.figure.Figure at 0x110bcfb38>"
      ]
     },
     "metadata": {},
     "output_type": "display_data"
    }
   ],
   "source": [
    "color = sns.color_palette()\n",
    "sns.set(style=\"white\")\n",
    "#cnt_srs = df.gender.value_counts()\n",
    "\n",
    "plt.figure(figsize=(12,8))\n",
    "with sns.color_palette(\"husl\"):\n",
    " sns.swarmplot(y=\"temperature\", x=\"gender\", alpha=0.8, data =df)\n",
    "plt.xlabel('Gender', fontsize=12)\n",
    "plt.ylabel('Temperature', fontsize=12)\n",
    "plt.title('Swarmplot of Human body Temperature', fontsize=15)\n",
    "plt.xticks(rotation='vertical')\n",
    "sns.set_style(\"whitegrid\")\n",
    "sns.despine(offset=10)\n",
    "sns.despine(left=True)\n",
    "\n",
    "plt.show()"
   ]
  },
  {
   "cell_type": "markdown",
   "metadata": {},
   "source": [
    "Fig 1(b) : The swarm plots of Temperature measurements indicate a higher mean for Females compared to Males"
   ]
  },
  {
   "cell_type": "markdown",
   "metadata": {},
   "source": [
    "### Is the Data Normallly distributed ?\n",
    "Given a sample set, one can compute the studentized residuals and compare these to the expected frequency: points that fall more than 3 standard deviations from the norm are likely outliers (unless the sample size is significantly large, by which point one expects a sample this extreme), and if there are many points more than 3 standard deviations from the norm, one likely has reason to question the assumed normality of the distribution. This holds ever more strongly for moves of 4 or more standard deviations."
   ]
  },
  {
   "cell_type": "markdown",
   "metadata": {},
   "source": [
    "The \"68–95–99.7 rule\" is often used to quickly get a rough probability estimate of something, given its standard deviation, if the population is assumed to be normal. It is also as a simple test for outliers if the population is assumed normal, and as a normality test if the population is potentially not normal.\n"
   ]
  },
  {
   "cell_type": "code",
   "execution_count": 7,
   "metadata": {},
   "outputs": [
    {
     "data": {
      "image/png": "[encoded data removed]",
      "text/plain": [
       "<matplotlib.figure.Figure at 0x111014320>"
      ]
     },
     "metadata": {},
     "output_type": "display_data"
    }
   ],
   "source": [
    "color = sns.color_palette()\n",
    "sns.set(style=\"white\")\n",
    "#cnt_srs = df.gender.value_counts()\n",
    "\n",
    "plt.figure(figsize=(12,8))\n",
    "with sns.color_palette(\"husl\"):\n",
    " sns.distplot(df['temperature'], rug='True')\n",
    "#plt.hist(df[temperature])\n",
    "plt.xlabel('Temperature', fontsize=12)\n",
    "plt.ylabel('Count', fontsize=12)\n",
    "plt.title('Distribution of Temperature', fontsize=15)\n",
    "plt.xticks(rotation='vertical')\n",
    "sns.set_style(\"whitegrid\")\n",
    "sns.despine(offset=10)\n",
    "sns.despine(left=True)\n",
    "\n",
    "plt.show()"
   ]
  },
  {
   "cell_type": "markdown",
   "metadata": {},
   "source": [
    "Fig 2: (above) To get a rough idea if the data is normally distribued a plot of the distributions indicates a normal distribution with 2 peaks."
   ]
  },
  {
   "cell_type": "markdown",
   "metadata": {},
   "source": [
    "#### Does the 68–95–99.7 rule\" hold ?"
   ]
  },
  {
   "cell_type": "code",
   "execution_count": 8,
   "metadata": {},
   "outputs": [
    {
     "name": "stdout",
     "output_type": "stream",
     "text": [
      "The mean                   human temperature in the data set is 98.24923076923078\n",
      "The standard deviation in  human temperature in the data set is 0.7303577789050377\n"
     ]
    }
   ],
   "source": [
    "df_temp_mean = np.mean(df.temperature)\n",
    "df_temp_sd = np.std(df.temperature)\n",
    "print(\"The mean                   human temperature in the data set is {}\".format(np.mean(df['temperature'])))\n",
    "print(\"The standard deviation in  human temperature in the data set is {}\".format(np.std(df['temperature'])))\n",
    "\n",
    "\n",
    "temp_np_array = df.temperature.values"
   ]
  },
  {
   "cell_type": "code",
   "execution_count": 9,
   "metadata": {},
   "outputs": [
    {
     "name": "stdout",
     "output_type": "stream",
     "text": [
      "Number  of observations within three standard deviations of the mean: 129\n",
      "Total number of observations is 130\n",
      "Proportion of observations within three standard deviations of the mean: 0.9923076923076923\n"
     ]
    }
   ],
   "source": [
    "print('Number  of observations within three standard deviations of the mean:',\n",
    "      len(temp_np_array[(temp_np_array >df_temp_mean-3*df_temp_sd) & (temp_np_array <df_temp_mean+3*df_temp_sd)]) )\n",
    "\n",
    "\n",
    "print(\"Total number of observations is {}\".format(len(df)))\n",
    "\n",
    "print('Proportion of observations within three standard deviations of the mean:',\n",
    "      len(temp_np_array[(temp_np_array>df_temp_mean-3*df_temp_sd) & (temp_np_array<df_temp_mean+3*df_temp_sd)])/len(temp_np_array))\n"
   ]
  },
  {
   "cell_type": "markdown",
   "metadata": {},
   "source": [
    "Yes, the 68-95-99.7 rule holds."
   ]
  },
  {
   "cell_type": "markdown",
   "metadata": {},
   "source": [
    " ### Are the observations in the sample independent ?"
   ]
  },
  {
   "cell_type": "markdown",
   "metadata": {},
   "source": [
    "Two observations are independent if the occurrence of one observation provides no information about the occurrence of the other observation.  If the sample has observations measuring the temperature  of everyone  at a single point in time.  These should be unrelated observations.  However, if one were to measure one subject's temperature over time, these observations would be dependent because the temperature  at each time point would affect the temperature  at future time points depending on whether a patient is going into a fever, recovering from fever, has been given a fever-reducing medicine or is normal.\n",
    "From  a temperature snapshot, the sample observations on Human temperature is independent\n",
    "From the Heart Rate vs. Temperature point of view we see some correlation  see Fig 3 below."
   ]
  },
  {
   "cell_type": "code",
   "execution_count": 10,
   "metadata": {},
   "outputs": [
    {
     "data": {
      "image/png": "[encoded data removed]",
      "text/plain": [
       "<matplotlib.figure.Figure at 0x1114a44e0>"
      ]
     },
     "metadata": {},
     "output_type": "display_data"
    }
   ],
   "source": [
    "color = sns.color_palette()\n",
    "sns.set(style=\"white\")\n",
    "#cnt_srs = df.gender.value_counts()\n",
    "\n",
    "plt.figure(figsize=(12,8))\n",
    "_ = plt.scatter(x=males_df['heart_rate'], y=males_df['temperature'], marker='.', color='blue')\n",
    "_ = plt.scatter(x=females_df['heart_rate'], y=females_df['temperature'], marker='.', color='red')\n",
    "\n",
    "\n",
    "_ = plt.xlabel('Heart rate', fontsize=12)\n",
    "_ = plt.ylabel('Temperature', fontsize=12)\n",
    "_ = plt.title('Correlation between Heart Rate and Temperature', fontsize=15)\n",
    "_ = plt.xticks(rotation='vertical')\n",
    "\n",
    "a_m, b_m = np.polyfit(males_df['heart_rate'],males_df['temperature'],1)\n",
    "a_f, b_f = np.polyfit(females_df['heart_rate'],females_df['temperature'],1)\n",
    "\n",
    "\n",
    " \n",
    "# Make theoretical line to plot\n",
    "x = np.array([40,100])\n",
    "y_m = a_m * x + b_m\n",
    "y_f = a_f * x + b_f\n",
    "\n",
    "\n",
    "# Add regression line to your plot\n",
    "_ = plt.plot(x, y_m, color='blue')\n",
    " \n",
    "_ = plt.plot(x, y_f, color='red')\n",
    "\n",
    "\n",
    "\n",
    "\n",
    "plt.margins(0.7)\n",
    "sns.set_style(\"whitegrid\")\n",
    "sns.despine(offset=10)\n",
    "sns.despine(left=True)\n",
    "\n",
    "plt.show()"
   ]
  },
  {
   "cell_type": "markdown",
   "metadata": {},
   "source": [
    "Fig 3 : (above) There seems to be a positive correlation between heart_rate and temperature. The correlattion seems higher in females(red) than in males (blue)"
   ]
  },
  {
   "cell_type": "code",
   "execution_count": 11,
   "metadata": {},
   "outputs": [
    {
     "name": "stdout",
     "output_type": "stream",
     "text": [
      "The pearson correlation of heart rate and  human temperature  in the data set is 0.25365640272076423\n",
      "The pearson correlation of heart rate and  human temperature  of Males in the data set is 0.195589375096875\n",
      "The pearson correlation of heart rate and  human temperature  of Females in the data set is 0.2869311544971098\n"
     ]
    }
   ],
   "source": [
    "def pearson_r(x,y):\n",
    "    \"\"\"Compute Pearson correlation coefficient between two arrays.\"\"\"\n",
    "    # Compute correlation matrix: corr_mat\n",
    "    corr_mat=np.corrcoef(x,y)\n",
    "\n",
    "    # Return entry [0,1]\n",
    "    return corr_mat[0,1]\n",
    "\n",
    "\n",
    "#### SUMMARY \n",
    "print(\"The pearson correlation of heart rate and  human temperature  in the data set is {}\".format(pearson_r(df['heart_rate'],df['temperature'])))\n",
    "\n",
    "print(\"The pearson correlation of heart rate and  human temperature  of Males in the data set is {}\".format(pearson_r(males_df['heart_rate'],males_df['temperature'])))\n",
    "print(\"The pearson correlation of heart rate and  human temperature  of Females in the data set is {}\".format(pearson_r(females_df['heart_rate'],females_df['temperature'])))"
   ]
  },
  {
   "cell_type": "markdown",
   "metadata": {},
   "source": [
    "### Is the true population mean temperature 98.6 ?"
   ]
  },
  {
   "cell_type": "markdown",
   "metadata": {},
   "source": [
    "###  3.1 : Bootstrap hypothesis"
   ]
  },
  {
   "cell_type": "markdown",
   "metadata": {},
   "source": [
    "H0 : The null      hypothesis : The population mean temperature is 98.6F  (claim)"
   ]
  },
  {
   "cell_type": "markdown",
   "metadata": {},
   "source": [
    "Ha : The alternate hypotheses : The population mean temperature differs from 98.6F F."
   ]
  },
  {
   "cell_type": "code",
   "execution_count": 12,
   "metadata": {},
   "outputs": [
    {
     "name": "stdout",
     "output_type": "stream",
     "text": [
      "From the random sample of 130  human subjects we know:\n",
      " a) the MEAN of the sample is        : 98.24923076923078\n",
      " b) the STANDARD DEVIATION  of the sample is     : 0.7303577789050377\n",
      " c) the SAMPLE STANDARD ERROR  is : 0.06405661469519336\n"
     ]
    }
   ],
   "source": [
    "print(\"From the random sample of 130  human subjects we know:\")\n",
    "print (\" a) the MEAN of the sample is        : {}\".format(np.mean(df.temperature)))\n",
    "print (\" b) the STANDARD DEVIATION  of the sample is     : {}\".format(np.std(df.temperature)))  \n",
    "print (\" c) the SAMPLE STANDARD ERROR  is : {}\".format(np.std(df.temperature)/np.sqrt(len(df))))"
   ]
  },
  {
   "cell_type": "code",
   "execution_count": 13,
   "metadata": {},
   "outputs": [],
   "source": [
    "# Here func can be any replicate mean, std etc\n",
    "def bootstrap_replicate_1d(data, func, graph=0): \n",
    "    \"\"\"Generate bootstrap replicate of 1D data.\"\"\"\n",
    "    bs_sample = np.random.choice(data, len(data))  \n",
    "    #print(bs_sample)\n",
    "    \n",
    "    if(graph==1):\n",
    "        color = sns.color_palette()\n",
    "        sns.set(style=\"white\")\n",
    "        #cnt_srs = df.gender.value_counts()\n",
    "\n",
    "        plt.figure(figsize=(6,4))\n",
    "        with sns.color_palette(\"husl\"):\n",
    "         sns.distplot(bs_sample, rug='True')\n",
    "        #plt.hist(df[temperature])\n",
    "        plt.xlabel('Temperature', fontsize=12)\n",
    "        plt.ylabel('Count', fontsize=12)\n",
    "        plt.title('Distribution of Temperaturemean is {}'.format(func(bs_sample), fontsize=15))\n",
    "        plt.xticks(rotation='vertical')\n",
    "        sns.set_style(\"whitegrid\")\n",
    "        sns.despine(offset=10)\n",
    "        sns.despine(left=True)\n",
    "\n",
    "        plt.show()\n",
    "        print (\"mean is {}\".format(func(bs_sample)))\n",
    "    return func(bs_sample)\n",
    "      \n",
    "## Create a function to draw the boot-strap samples\n",
    "def draw_bs_reps(data, func, size=1, graph=0):\n",
    "    bs_replicates = np.empty(size)\n",
    "    for i in range(size):\n",
    "            bs_replicates[i] = bootstrap_replicate_1d(data, func, graph)\n",
    "            \n",
    "    return bs_replicates\n",
    "    "
   ]
  },
  {
   "cell_type": "code",
   "execution_count": 14,
   "metadata": {},
   "outputs": [],
   "source": [
    "temp_np_array = np.array(df['temperature'])\n",
    "\n",
    "bs_replicates  = draw_bs_reps(temp_np_array, np.mean, 10000, 0)"
   ]
  },
  {
   "cell_type": "code",
   "execution_count": 15,
   "metadata": {},
   "outputs": [
    {
     "data": {
      "image/png": "[encoded data removed]",
      "text/plain": [
       "<matplotlib.figure.Figure at 0x11147ac88>"
      ]
     },
     "metadata": {},
     "output_type": "display_data"
    }
   ],
   "source": [
    "color = sns.color_palette()\n",
    "sns.set(style=\"white\")\n",
    "#cnt_srs = df.gender.value_counts()\n",
    "\n",
    "plt.figure(figsize=(12,8))\n",
    "with sns.color_palette(\"husl\"):\n",
    " sns.distplot(bs_replicates, rug='True', bins=20)\n",
    "#plt.hist(df[temperature])\n",
    "plt.xlabel(' Mean Temperature', fontsize=12)\n",
    "plt.ylabel('PDF ', fontsize=12)\n",
    "plt.title('Distribution of Mean Human  Temperature', fontsize=15)\n",
    "plt.xticks(rotation='vertical')\n",
    "sns.set_style(\"whitegrid\")\n",
    "sns.despine(offset=10)\n",
    "sns.despine(left=True)\n",
    "\n",
    "plt.show()"
   ]
  },
  {
   "cell_type": "code",
   "execution_count": 16,
   "metadata": {},
   "outputs": [
    {
     "name": "stdout",
     "output_type": "stream",
     "text": [
      "95% confidence interval = [ 98.12230769  98.37692308]\n"
     ]
    }
   ],
   "source": [
    "\n",
    "# Compute the confidence interval\n",
    "conf_int = np.percentile(bs_replicates,[2.5, 97.5])\n",
    "# Print the confidence interval\n",
    "print('95% confidence interval =', conf_int)\n",
    "\n"
   ]
  },
  {
   "cell_type": "code",
   "execution_count": 17,
   "metadata": {},
   "outputs": [
    {
     "name": "stdout",
     "output_type": "stream",
     "text": [
      "p =  0.0\n"
     ]
    }
   ],
   "source": [
    " # Compute fraction of replicates that are greater\n",
    "#  \n",
    "p = (np.sum(bs_replicates  > 98.6)) / len(bs_replicates)\n",
    "\n",
    "# Print the p-value\n",
    "print('p = ', p)"
   ]
  },
  {
   "cell_type": "markdown",
   "metadata": {},
   "source": [
    " ####  Therefore we reject the claim that the the mean Human temperature is 98.6 in favor of the alternate hypothesis that the poulation mean differs from 98.6 F\n"
   ]
  },
  {
   "cell_type": "markdown",
   "metadata": {},
   "source": [
    "#### Based on the 95% confidence interval, temperatures abobe 98.37 F are considered abnormal and temperatures below 98.12 F are considered abnormal"
   ]
  },
  {
   "cell_type": "markdown",
   "metadata": {},
   "source": [
    "### 3.2 : Frequentist"
   ]
  },
  {
   "cell_type": "markdown",
   "metadata": {},
   "source": [
    "One does not  know what the mean temperature is  is. However,   its value is fixed (not a random one). Therefore, one cannot assign probabilities to the mean being equal to a certain value, or being less than/greater than some other value. The most one  can do is collect data from a sample of the population and estimate its mean as the value which is most consistent with the data\n",
    "\n",
    "For normally distributed data, it’s quite straightforward: the maximum likelihood estimate of the population mean is equal to the sample mean."
   ]
  },
  {
   "cell_type": "code",
   "execution_count": 18,
   "metadata": {},
   "outputs": [
    {
     "name": "stdout",
     "output_type": "stream",
     "text": [
      "The mean human temperature in the data set is 98.24923076923078\n",
      "Therefore we infer that the population mean is differs from 98.6 F\n"
     ]
    }
   ],
   "source": [
    "print(\"The mean human temperature in the data set is {}\".format(np.mean(df['temperature'])))\n",
    "\n",
    "print(\"Therefore we infer that the population mean is differs from 98.6 F\")\n",
    "\n"
   ]
  },
  {
   "cell_type": "markdown",
   "metadata": {},
   "source": [
    "### 3.3 : 1-sample or 2-sample test ?\n",
    " The 2-sample t-test takes a sample data from two groups and boils it down to the t-value.  For the estimation of mean Human temperature, 1-sample test should be used. For samples, involving two observations between intervening events on the same subject, one would use a 2-sample test."
   ]
  },
  {
   "cell_type": "markdown",
   "metadata": {},
   "source": [
    "### 3.3.1 1-sample test\n",
    "\n",
    "One uses the 1-sample t-test to estimate the mean of a population and compare it to a target or reference value when one does not know the standard deviation of the population. Using this test, one can:\n",
    "* Determine whether the mean of a group differs from a specified value.\n",
    "* Calculate a range of values that is likely to include the population mean.\n",
    "\n"
   ]
  },
  {
   "cell_type": "code",
   "execution_count": 19,
   "metadata": {},
   "outputs": [
    {
     "name": "stdout",
     "output_type": "stream",
     "text": [
      "The sample_mean is 98.24923076923078\n",
      "The null hypothesis value i.e  population mean temperature   is 98.6\n",
      "The sample_std_dev   is 0.7303577789050377\n",
      " \n",
      "The sample_std_error   is 0.06405661469519336\n"
     ]
    }
   ],
   "source": [
    "print(\"The sample_mean is {}\".format(np.mean(df['temperature'])))\n",
    "sample_mean = np.mean(df['temperature'])\n",
    "print (\"The null hypothesis value i.e  population mean temperature   is 98.6\")\n",
    "null_hyp_val = 98.6\n",
    "print (\"The sample_std_dev   is {}\".format(np.std(df['temperature'])))\n",
    "sample_std_dev = np.std(df['temperature'])\n",
    "print( \" \")\n",
    "print (\"The sample_std_error   is {}\".format(np.std(df['temperature'])/np.sqrt(len(df))))\n",
    "sample_std_error = np.std(df['temperature'])/np.sqrt(len(df))\n"
   ]
  },
  {
   "cell_type": "code",
   "execution_count": 20,
   "metadata": {},
   "outputs": [
    {
     "name": "stdout",
     "output_type": "stream",
     "text": [
      "The t-stat is : -5.475925202078116\n"
     ]
    }
   ],
   "source": [
    "t_z_stat = (sample_mean - null_hyp_val)/ (sample_std_error)\n",
    "\n",
    "print( \"The t-stat is : {}\".format(t_z_stat))"
   ]
  },
  {
   "cell_type": "markdown",
   "metadata": {},
   "source": [
    "#### t_stat of -5.47592 for 120 degrees for freedom  indicates that for a t-distribution,  the confidence is  way less than 0.005. Therefore, the difference between Null hypothesis value of 98.6F and sample mean is a true difference i.e. population mean temperature differs from 98.6\n",
    "\n",
    "#### z_stat of -5.47592  for sample size N > 30 , we use z-stat. also indicates, p-value is nearly 0. Therefore we reject the Null hypothesis\n"
   ]
  },
  {
   "cell_type": "markdown",
   "metadata": {},
   "source": [
    "### 3.3.2 In this situation, is it appropriate to use the  t or  z statistic?\n",
    "\n",
    "In this situation, it is more appropriate for  the z statistic to be used, as the sample size N is 130 which is N >30.\n",
    "For larger normally distributed samples, we use the z-statistic.\n"
   ]
  },
  {
   "cell_type": "markdown",
   "metadata": {},
   "source": [
    " \n",
    "### 3.4 Is the result different ? \n",
    "No, the results are the same  - both reject the hypothesis"
   ]
  },
  {
   "cell_type": "markdown",
   "metadata": {},
   "source": [
    " "
   ]
  },
  {
   "cell_type": "markdown",
   "metadata": {},
   "source": [
    "### 4. Draw a Sample of 10 and use the frequentist method"
   ]
  },
  {
   "cell_type": "code",
   "execution_count": 21,
   "metadata": {},
   "outputs": [],
   "source": [
    "# Draw a sample of 10 from the sample of 130\n",
    "# this is a better candidate for the t-test\n",
    "import random \n",
    "indices = random.sample(range(len(df['temperature'])), 10)\n",
    "temperature = df.temperature\n",
    "temp_sample = []\n",
    "for i in indices:\n",
    "    temp_sample.append(temperature[i])"
   ]
  },
  {
   "cell_type": "code",
   "execution_count": 22,
   "metadata": {},
   "outputs": [
    {
     "name": "stdout",
     "output_type": "stream",
     "text": [
      "The sample_mean is 98.21000000000001\n",
      "The null hypothesis value i.e  population mean temperature   is 98.6\n",
      "The sample_std_dev   is 0.5185556864985665\n",
      " \n",
      "The sample_std_error   is 0.16398170629676945\n"
     ]
    }
   ],
   "source": [
    "print(\"The sample_mean is {}\".format(np.mean(temp_sample)))\n",
    "sample_mean = np.mean(temp_sample)\n",
    "print (\"The null hypothesis value i.e  population mean temperature   is 98.6\")\n",
    "null_hyp_val = 98.6\n",
    "print (\"The sample_std_dev   is {}\".format(np.std(temp_sample)))\n",
    "sample_std_dev = np.std(temp_sample)\n",
    "print( \" \")\n",
    "print (\"The sample_std_error   is {}\".format(np.std(temp_sample)/np.sqrt(len(temp_sample))))\n",
    "sample_std_error = np.std(temp_sample)/np.sqrt(len(temp_sample))\n",
    "\n",
    "\n"
   ]
  },
  {
   "cell_type": "code",
   "execution_count": 23,
   "metadata": {},
   "outputs": [
    {
     "name": "stdout",
     "output_type": "stream",
     "text": [
      "The t-stat is : -2.3783140742185926\n",
      "From the tables, this corresponds to about 27% percentile and we accept the claim that the mean  population human temperature is 98.6\n",
      "From scipy stats, this corresponds to 0.01936185922908817 percentile \n"
     ]
    }
   ],
   "source": [
    "t_z_stat = (sample_mean - null_hyp_val)/ (sample_std_error)\n",
    "\n",
    "print( \"The t-stat is : {}\".format(t_z_stat))\n",
    "print( \"From the tables, this corresponds to about 27% percentile and we accept the claim that the mean  population human temperature is 98.6\")\n",
    "print( \"From scipy stats, this corresponds to {} percentile \".format(t.cdf(t_z_stat,len(temp_sample))))"
   ]
  },
  {
   "cell_type": "code",
   "execution_count": 24,
   "metadata": {},
   "outputs": [
    {
     "name": "stdout",
     "output_type": "stream",
     "text": [
      "The z-stat is : -2.3783140742185926\n",
      "This corresponds to a probability of 0.2734 and we accept the claim that the mean  population human temperature is 98.6\n",
      "From scipy stats, this corresponds to 0.008696002626631031 a probability  \n"
     ]
    }
   ],
   "source": [
    "print( \"The z-stat is : {}\".format(t_z_stat))\n",
    "print( \"This corresponds to a probability of 0.2734 and we accept the claim that the mean  population human temperature is 98.6\")\n",
    "print( \"From scipy stats, this corresponds to {} a probability  \".format(norm.cdf(t_z_stat)))\n"
   ]
  },
  {
   "cell_type": "markdown",
   "metadata": {},
   "source": [
    "### From both these methods, for a smaller sample size of 10 ( vs. 130 previously ) we see the probability is favouring the claim is significant and we now accept the null Hypothesis that the population mean human temperature is 98.6 F\""
   ]
  },
  {
   "cell_type": "markdown",
   "metadata": {},
   "source": [
    "## Is there a significant difference between males and females in normal temperature?\n"
   ]
  },
  {
   "cell_type": "markdown",
   "metadata": {},
   "source": [
    "H0 : The human temperature of males in the population has an indentical poulation mean  as the human temperature of females in the population \n",
    "\n",
    "HA : The mean of human temperatures of the males differs from the female population\n",
    "    \n"
   ]
  },
  {
   "cell_type": "code",
   "execution_count": 25,
   "metadata": {},
   "outputs": [
    {
     "data": {
      "text/plain": [
       "0.289230769230727"
      ]
     },
     "execution_count": 25,
     "metadata": {},
     "output_type": "execute_result"
    }
   ],
   "source": [
    "### Let us begin with the differences in the means of the original sample\n",
    "\n",
    "np.mean(females_df['temperature']) - np.mean(males_df['temperature'])\n",
    "\n"
   ]
  },
  {
   "cell_type": "code",
   "execution_count": 26,
   "metadata": {},
   "outputs": [
    {
     "data": {
      "text/plain": [
       "-0.021538461538455067"
      ]
     },
     "execution_count": 26,
     "metadata": {},
     "output_type": "execute_result"
    }
   ],
   "source": [
    "# Let's re-shuffle the indices and draw a permutation of  130 samples\n",
    "\n",
    "females_temp = females_df['temperature']\n",
    "males_temp  = males_df['temperature']\n",
    "\n",
    "# concatenate these together\n",
    "temp_both = np.concatenate((females_temp, males_temp))\n",
    "\n",
    "# create a permutation by shuffling them up \n",
    "\n",
    "temp_both_perm = np.random.permutation(temp_both)\n",
    "\n",
    "perm_females_temp = temp_both_perm[:len(females_temp)]\n",
    "perm_males_temp   = temp_both_perm[len(females_temp):]\n",
    "\n",
    "\n",
    "# now calculate the difference in the mean \n",
    "\n",
    "np.mean(perm_females_temp) - np.mean(perm_males_temp)"
   ]
  },
  {
   "cell_type": "markdown",
   "metadata": {},
   "source": [
    "#### Now we draw a histogram of differences in means of the Females and Males Human temperature"
   ]
  },
  {
   "cell_type": "code",
   "execution_count": 32,
   "metadata": {},
   "outputs": [],
   "source": [
    "def diff_of_means(data_1, data_2):\n",
    "    \"\"\"Difference in means of two arrays.\"\"\"\n",
    "\n",
    "    # The difference of means of data_1, data_2: diff\n",
    "    diff = np.mean(data_1) - np.mean(data_2)\n",
    "\n",
    "    return diff"
   ]
  },
  {
   "cell_type": "code",
   "execution_count": 40,
   "metadata": {},
   "outputs": [],
   "source": [
    "def permutation_sample(data_1, data_2):\n",
    "    \"\"\" Permutation sample\"\"\"\n",
    "    \n",
    "    # concatenate \n",
    "    data_both = np.concatenate((data_1,data_2))\n",
    "    temp_both_perm  = np.random.permutation(data_both)\n",
    "    \n",
    "    # create a permutation by shuffling them up\n",
    "    return(temp_both_perm[:len(data_1)], temp_both_perm[len(data_1):])\n",
    "    "
   ]
  },
  {
   "cell_type": "code",
   "execution_count": 46,
   "metadata": {},
   "outputs": [],
   "source": [
    "def draw_perm_reps(data_1, data_2, func, size=1):\n",
    "    \"\"\"Generate multiple permutation replicates.\"\"\"\n",
    "\n",
    "    # Initialize array of replicates: perm_replicates\n",
    "    perm_replicates = np.empty(size)\n",
    "    data_both = np.empty(len(data_1) + len(data_2))\n",
    "\n",
    "    for i in range(size):\n",
    "        # Generate permutation sample\n",
    "        \n",
    "        #perm_sample_1, perm_sample_2 = permutation_sample(data_1, data_2)\n",
    "        data_both = np.concatenate((data_1,data_2))\n",
    "        temp_both_perm  = np.random.permutation(data_both)\n",
    "        \n",
    "        # Compute the test statistic\n",
    "        perm_replicates[i] = func(temp_both_perm[:len(data_1)],temp_both_perm[len(data_1):])\n",
    "\n",
    "    return perm_replicates\n"
   ]
  },
  {
   "cell_type": "code",
   "execution_count": 48,
   "metadata": {},
   "outputs": [],
   "source": [
    "perm_replicates = draw_perm_reps(females_temp, males_temp,\n",
    "                                 diff_of_means, size=10000)"
   ]
  },
  {
   "cell_type": "code",
   "execution_count": 49,
   "metadata": {},
   "outputs": [
    {
     "data": {
      "image/png": "[encoded data removed]",
      "text/plain": [
       "<matplotlib.figure.Figure at 0x11147afd0>"
      ]
     },
     "metadata": {},
     "output_type": "display_data"
    }
   ],
   "source": [
    "color = sns.color_palette()\n",
    "sns.set(style=\"white\")\n",
    "#cnt_srs = df.gender.value_counts()\n",
    "\n",
    "plt.figure(figsize=(12,8))\n",
    "with sns.color_palette(\"husl\"):\n",
    " sns.distplot(perm_replicates, rug='True', bins=20)\n",
    "#plt.hist(df[temperature])\n",
    "plt.xlabel(' Females - Males Mean  Temperature', fontsize=12)\n",
    "plt.ylabel('PDF ', fontsize=12)\n",
    "plt.title('Distribution of Difference in Females- Males  Human  Temperature', fontsize=15)\n",
    "plt.xticks(rotation='vertical')\n",
    "sns.set_style(\"whitegrid\")\n",
    "sns.despine(offset=10)\n",
    "sns.despine(left=True)\n",
    "\n",
    "plt.show()"
   ]
  },
  {
   "cell_type": "code",
   "execution_count": 56,
   "metadata": {},
   "outputs": [],
   "source": [
    "### Then we compute the p -value"
   ]
  },
  {
   "cell_type": "code",
   "execution_count": 57,
   "metadata": {},
   "outputs": [],
   "source": [
    "# Compute fraction of replicates that are less than the observed difference in temperature between Females and Males: p\n",
    "p  = np.sum(perm_replicates >= np.mean(females_df['temperature']) - np.mean(males_df['temperature'])) / 10000"
   ]
  },
  {
   "cell_type": "code",
   "execution_count": 58,
   "metadata": {},
   "outputs": [
    {
     "name": "stdout",
     "output_type": "stream",
     "text": [
      "p =  0.0127\n"
     ]
    }
   ],
   "source": [
    "# Print the p-value\n",
    "print('p = ', p)\n"
   ]
  },
  {
   "cell_type": "markdown",
   "metadata": {},
   "source": [
    "#### The high value of 0.0127  supports the claim that there is no difference in the mean temperature between females and males\n"
   ]
  },
  {
   "cell_type": "code",
   "execution_count": null,
   "metadata": {},
   "outputs": [],
   "source": []
  }
 ],
 "metadata": {
  "kernelspec": {
   "display_name": "Python 3",
   "language": "python",
   "name": "python3"
  },
  "language_info": {
   "codemirror_mode": {
    "name": "ipython",
    "version": 3
   },
   "file_extension": ".py",
   "mimetype": "text/x-python",
   "name": "python",
   "nbconvert_exporter": "python",
   "pygments_lexer": "ipython3",
   "version": "3.6.1"
  }
 },
 "nbformat": 4,
 "nbformat_minor": 1
}
